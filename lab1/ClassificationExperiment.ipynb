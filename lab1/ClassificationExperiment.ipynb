{
 "cells": [
  {
   "cell_type": "code",
   "execution_count": 1,
   "metadata": {
    "collapsed": false
   },
   "outputs": [
    {
     "name": "stderr",
     "output_type": "stream",
     "text": [
      "C:\\Users\\xiaok\\AppData\\Local\\Programs\\Python\\Python36\\lib\\site-packages\\ipykernel_launcher.py:30: RuntimeWarning: overflow encountered in square\n"
     ]
    },
    {
     "data": {
      "image/png": "[encoded data removed]",
      "text/plain": [
       "<matplotlib.figure.Figure at 0x1f45afbe668>"
      ]
     },
     "metadata": {},
     "output_type": "display_data"
    }
   ],
   "source": [
    "import numpy as np\n",
    "from sklearn.datasets import load_svmlight_file\n",
    "from sklearn.model_selection import train_test_split\n",
    "import matplotlib.pyplot as plt\n",
    "\n",
    "def get_data():\n",
    "    data = load_svmlight_file('australian_scale')\n",
    "    return data[0],data[1]\n",
    "\n",
    "X , Y = get_data()\n",
    "\n",
    "X_train,X_validation,Y_train,Y_validation = train_test_split(X , Y , test_size = 0.33)\n",
    "\n",
    "X_train = X_train.todense()\n",
    "X_validation = X_validation.todense()\n",
    "\n",
    "Y_train = Y_train.reshape(Y_train.shape[0],1)\n",
    "Y_validation = Y_validation.reshape(Y_validation.shape[0],1)\n",
    "\n",
    "m , n = np.shape(X_train)\n",
    "b = np.zeros((X_train.shape[0],1))\n",
    "w = np.empty((X_train.shape[1],1))\n",
    "\n",
    "def compute_loss(x,y):\n",
    "    n = x.shape[1]\n",
    "    total = 0\n",
    "    for z in range(x.shape[0]):\n",
    "        if np.sum((1 - y[z] * (x[z] * w + b[z]))) > 0:\n",
    "            total += np.sum((1 - y[z] * (x[z] * w + b[z])))\n",
    "    loss = np.sum(np.square(w)) / (2*n) + C * total\n",
    "    #print(loss)\n",
    "    return loss\n",
    "\n",
    "iteration = 100\n",
    "learning_rate = 0.05\n",
    "C = 0.01\n",
    "train_loss=[]\n",
    "validation_loss=[]\n",
    "\n",
    "for i in range(iteration):\n",
    "    for j in range(X_train.shape[0]):\n",
    "        if np.sum((1 - Y[j] * (X[j] * w + b[j] ))) > 0:\n",
    "            w_gradient = w + C * (-1 * Y_train[j] * X_train[j]).T\n",
    "            b_gradient = -1 * C * Y_train[j]\n",
    "        else:\n",
    "            w_gradient = w\n",
    "            b_gradient = 0\n",
    "        w = w - learning_rate * w_gradient\n",
    "        b[j] = b[j] - learning_rate * b_gradient\n",
    "    train_loss.append( compute_loss(X_train,Y_train) )\n",
    "    validation_loss.append( compute_loss(X_validation,Y_validation) )\n",
    "\n",
    "a = np.arange(0,iteration,1)\n",
    "plt.plot(a,train_loss,label = \"train_loss\",color = \"yellow\",linewidth = 2)\n",
    "plt.plot(a,validation_loss,label = 'validation_loss',color = 'blue',linewidth = 2)\n",
    "plt.legend(loc='upper right')\n",
    "plt.xlabel(\"Iteration\")\n",
    "plt.ylabel(\"Loss\")\n",
    "plt.show()"
   ]
  }
 ],
 "metadata": {
  "kernelspec": {
   "display_name": "Python 2",
   "language": "python",
   "name": "python2"
  },
  "language_info": {
   "codemirror_mode": {
    "name": "ipython",
    "version": 2
   },
   "file_extension": ".py",
   "mimetype": "text/x-python",
   "name": "python",
   "nbconvert_exporter": "python",
   "pygments_lexer": "ipython2",
   "version": "2.7.6"
  }
 },
 "nbformat": 4,
 "nbformat_minor": 0
}
