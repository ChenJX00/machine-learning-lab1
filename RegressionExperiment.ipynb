{
 "cells": [
  {
   "cell_type": "code",
   "execution_count": 1,
   "metadata": {
    "collapsed": true
   },
   "outputs": [
    {
     "data": {
      "image/png": "[encoded data removed]",
      "text/plain": [
       "<matplotlib.figure.Figure at 0x2c3ac119cf8>"
      ]
     },
     "metadata": {},
     "output_type": "display_data"
    }
   ],
   "source": [
    "import numpy as np\n",
    "from sklearn.datasets import load_svmlight_file\n",
    "from sklearn.model_selection import train_test_split\n",
    "import matplotlib.pyplot as plt\n",
    "#读取数据\n",
    "def get_data():\n",
    "    data = load_svmlight_file('housing_scale')\n",
    "    return data[0],data[1]\n",
    "\n",
    "X, y = get_data()\n",
    "\n",
    "X_train,X_validation,y_train,y_validation = train_test_split(X,y,test_size = 0.33,random_state = 42)#数据分割\n",
    "\n",
    "X_train = X_train.todense()\n",
    "X_validation = X_validation.todense()\n",
    "\n",
    "y_train = y_train.reshape(y_train.shape[0],1)\n",
    "y_validation = y_validation.reshape(y_validation.shape[0],1)\n",
    "\n",
    "m,n = np.shape(X_train)\n",
    "w = np.ones((n,1))\n",
    "learning_rate = 0.0003\n",
    "\n",
    "def loss_function(x,y,w):\n",
    "    loss = (1/2 *(np.linalg.norm(x*w-y))**2)/ (x.shape[0])\n",
    "    return loss\n",
    "\n",
    "train_loss = []\n",
    "validation_loss = []\n",
    "\n",
    "iteration =1000\n",
    "\n",
    "for i in range(0,iteration):\n",
    "    gradient = X_train.T * ( X_train * w - y_train) #x(wx-y)\n",
    "    #print(gradient)\n",
    "    w = w - learning_rate * gradient\n",
    "    #print(w)\n",
    "    train_loss.append(loss_function(X_train,y_train,w))\n",
    "    validation_loss.append(loss_function(X_validation,y_validation,w))\n",
    "\n",
    "\n",
    "a = np.arange(0,iteration,1)\n",
    "plt.plot(a,train_loss,label = \"train_loss\",color = \"yellow\",linewidth = 2)\n",
    "plt.plot(a,validation_loss,label = 'validation_loss',color = 'blue',linewidth = 2)\n",
    "plt.legend(loc='upper right')\n",
    "plt.xlabel(\"Iteration\")\n",
    "plt.ylabel(\"Loss\")\n",
    "plt.show()\n"
   ]
  }
 ],
 "metadata": {
  "kernelspec": {
   "display_name": "Python 2",
   "language": "python",
   "name": "python2"
  },
  "language_info": {
   "codemirror_mode": {
    "name": "ipython",
    "version": 2
   },
   "file_extension": ".py",
   "mimetype": "text/x-python",
   "name": "python",
   "nbconvert_exporter": "python",
   "pygments_lexer": "ipython2",
   "version": "2.7.6"
  }
 },
 "nbformat": 4,
 "nbformat_minor": 0
}
